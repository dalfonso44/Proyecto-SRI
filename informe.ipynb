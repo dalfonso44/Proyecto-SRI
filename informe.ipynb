{
 "cells": [
  {
   "cell_type": "markdown",
   "metadata": {},
   "source": [
    "# Proyecto Final de Sistemas de Recuperación de Información"
   ]
  },
  {
   "cell_type": "markdown",
   "metadata": {},
   "source": [
    "### Integrantes:\n",
    "* Diamis Alfonso Pérez C-311\n",
    "* José Luis Leiva Fleitas  C-312"
   ]
  },
  {
   "cell_type": "markdown",
   "metadata": {},
   "source": [
    "Link del Proyecto: https://github.com/dalfonso44/Proyecto-SRI\n",
    "\n",
    "#### Modelos implementados:\n",
    "* Modelo booleano\n",
    "* Modelo vectorial\n",
    "* Modelo de semántica latente\n",
    "\n",
    "Realizamos la implementación de todos los modelos en Python"
   ]
  },
  {
   "cell_type": "markdown",
   "metadata": {},
   "source": [
    "#### Colección escogida para evaluar los modelos:\n",
    "* Cranfield Dataset"
   ]
  },
  {
   "cell_type": "markdown",
   "metadata": {},
   "source": [
    "### Análisis del diseño del modelo vectorial:\n",
    "Escogimos este modelo debido a su excelente rendimiento en colecciones de temáticas variadas y por ser el de mejores resultados entre los modelos clásicos estudiados. Además, aprovechamos la ventaja de bibliotecas como numpy que facilitan el trabajo con vectores.  \n",
    "#### Representación vectorial de los documentos:\n",
    "Procesamos los documentos y calculamos los pesos, apoyándonos en las fórmulas estudiadas en conferencias de tf e idf, así tenemos la representación vectorial.  \n",
    "#### Representación vectorial de la query:\n",
    "Luego de preprocesar la query, obteniendo su matriz de tf, se calcula su peso con la fórmula estándar con a = 0.4 para tener así su representación vectorial.\n",
    "#### Evaluación de la query: \n",
    "Calculamos el coseno del ángulo formado entre la representación vectorial de la query y los documentos para obtener la similitud."
   ]
  },
  {
   "cell_type": "markdown",
   "metadata": {},
   "source": [
    "### Promedio de medidas para Cranfield Dataset\n",
    "* Presición: 0.005737\n",
    "* Recobrado: 0.00429\n",
    "* Medida F: 0.0048\n",
    "\n",
    "### Rango de valores:\n",
    "* Presición: 0.0 - 0.6\n",
    "* Recobrado: 0.0 - 0.125\n",
    "* Medida F: 0.0 - "
   ]
  },
  {
   "cell_type": "markdown",
   "metadata": {},
   "source": [
    "### Análisis del diseño del modelo booleano:\n",
    "Escogimos este modelo por ser el de más fácil implementación entre los modelos clásicos. Parseamos las expresiones booleanas con un parsing recursivo descendente.\n",
    "#### Representación de los documentos:\n",
    "Usando la matriz de tf obtenida del preprocesado, adquirimos el vector binario teniendo en cuenta que si tf es mayor que 0 entonces el término aparece en el documento.\n",
    "#### Preprocesamiento de la query:\n",
    "La query es una expresión booleana con los operadores de negación, conjunción y disyunción. Las variables de la expresión son los términos. \n",
    "#### Evaluación de la query:\n",
    "Se evalúa en la query la representación vectorial binaria de cada documento."
   ]
  },
  {
   "cell_type": "markdown",
   "metadata": {},
   "source": [
    "### Análisis del modelo LSI:\n",
    "Escogimos este modelo porque es una mejora del modelo vectorial y porque obtiene buenos resultados. Además, Python facilita las operaciones complejas con matrices y algebraicas que este modelo conlleva, a través de la biblioteca numpy.\n",
    "#### Representación de los documentos:\n",
    "Tras procesar los documentos obtenemos la matriz de tf y en el diccionario del vocabulario tenemos la frecuencia global del término. Con esto, podemos calcular el peso de los términos en cada documento. Con la matriz de los pesos se aplica svd(U,Z,D) utilizando la función `np.linalg.svd()` de la biblioteca numpy. Luego se reducen las dimensiones de las matrices resultantes dependiendo del k deseado, obteniendo una representación vectorial de los documentos en el nuevo espacio.\n",
    "#### Representación de la query:\n",
    "Obtenemos una representación vectorial de la query. Esta se proyecta en el nuevo espacio de los documentos, para esto se utiliza la fórmula $q_{k} = Z^{-1}_{k} * D^t_{k} * q$.\n",
    "#### Evaluación de la query:\n",
    "Se obtiene la similitud con el documento a través del coseno del ángulo que se forma entre la query y los documentos,se ordenan y se devuelve un ranking con los primeros documentos.\n"
   ]
  },
  {
   "cell_type": "markdown",
   "metadata": {},
   "source": [
    "### Ventajas:\n",
    "El modelo vectorial y el semántica latente demoran un poco para grandes colecciones pero no demasiado, obtienen buenos resultados.\n",
    "\n",
    "### Desventajas:  \n",
    "El modelo booleano no es muy útil en colecciones de temáticas variadas.\n",
    "\n",
    "### A mejorar en el futuro:  \n",
    "Se puede implementar una interfaz de usuario para facilitar el uso de la aplicación. Optimizar la implementación de los modelos."
   ]
  }
 ],
 "metadata": {
  "kernelspec": {
   "display_name": "Python 3.10.6 64-bit",
   "language": "python",
   "name": "python3"
  },
  "language_info": {
   "name": "python",
   "version": "3.10.6"
  },
  "orig_nbformat": 4,
  "vscode": {
   "interpreter": {
    "hash": "916dbcbb3f70747c44a77c7bcd40155683ae19c65e1c03b4aa3499c5328201f1"
   }
  }
 },
 "nbformat": 4,
 "nbformat_minor": 2
}
